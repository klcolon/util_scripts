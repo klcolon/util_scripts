{
 "cells": [
  {
   "cell_type": "code",
   "execution_count": null,
   "metadata": {},
   "outputs": [],
   "source": [
    "import pandas as pd\n",
    "import numpy as np"
   ]
  },
  {
   "cell_type": "code",
   "execution_count": null,
   "metadata": {},
   "outputs": [],
   "source": [
    "from itertools import combinations\n",
    "from upsetplot import from_memberships\n",
    "from upsetplot import plot\n",
    "import matplotlib.pyplot as plt\n",
    "%config InlineBackend.figure_format='retina'\n",
    "\n",
    "def intersect(data, upset_plot = False):\n",
    "    \"\"\"A function that returns all possible distinct intersections and generates an upset plot\n",
    "    Parameters\n",
    "    ----------\n",
    "    data = pandas dataframe\n",
    "    upset_plot = boolean\n",
    "    \n",
    "    Returns\n",
    "    -------\n",
    "    df_final = dataframe with list of matches for each comparison and counts\n",
    "    upset = data formatted to generate upset plots \"\"\"\n",
    "\n",
    "    #convert data column names to strings  \n",
    "    col_names = []\n",
    "    for i in data.columns:\n",
    "        col_names.append(str(i))\n",
    "    data.columns = col_names\n",
    "    \n",
    "    #total groups\n",
    "    n = len(col_names)\n",
    "\n",
    "    #generate all possible combinations for intersection analysis\n",
    "    comb_list = []\n",
    "    for i in range(2,n+1):\n",
    "        comb_list.append(list(combinations(col_names, i)))\n",
    "\n",
    "    #find all unique elements and drop na\n",
    "    unique_elem = []\n",
    "    tot_elements = []\n",
    "    for i in col_names:\n",
    "        unique_elem.append(set(data[i].dropna().to_list()))\n",
    "    for i in range(len(unique_elem)):\n",
    "        tot_elements.append([col_names[i], len(unique_elem[i])])\n",
    "    \n",
    "    print(\"Total unique number of items\", tot_elements)\n",
    "\n",
    "    \n",
    "    #make dictionary for unique elements \n",
    "    dict_ = {}\n",
    "    for i in range(len(col_names)):\n",
    "        dict_.update({col_names[i]: unique_elem[i]})\n",
    "\n",
    "    #intersect data, find distinct sets, drop na\n",
    "    list_intersect = []\n",
    "    for i in comb_list:\n",
    "        for j in i:\n",
    "            if len(j) == 2:\n",
    "                func_1 = \"set(data['{x}'].dropna().to_list()).intersection(data['{y}'].dropna().to_list())\".format(x = j[0], y = j[1])\n",
    "                inter = eval(func_1)\n",
    "                dict_adj = []\n",
    "                for i, k in dict_.items():  \n",
    "                    if i != j[0] and i != j[1]:\n",
    "                        dict_adj.append(k) \n",
    "                for i in dict_adj:\n",
    "                    unique = inter - i\n",
    "                    inter = unique\n",
    "                list_intersect.append([j,list(inter), len(list(inter))])\n",
    "            else:\n",
    "                func_2 = \"set(data['{x}'].dropna().to_list()).intersection(data['{y}'].dropna().to_list())\".format(x = j[0], y = j[1])\n",
    "                cond = \"i != j[0] and i != j[1]\"\n",
    "                for _ in range(2,len(j)):\n",
    "                    decor_1 = \".intersection(data['{z}'].dropna().to_list())\".format(z = j[_])\n",
    "                    decor_2 = \" and i != j[{x}]\".format(x = _)\n",
    "                    func_2 = func_2 + decor_1\n",
    "                    cond = cond + decor_2\n",
    "                inter = eval(func_2)\n",
    "                dict_adj = []\n",
    "                for i, k in dict_.items():  \n",
    "                    if eval(cond):\n",
    "                        dict_adj.append(k) \n",
    "                for i in dict_adj:\n",
    "                    unique = inter - i\n",
    "                    inter = unique\n",
    "                list_intersect.append([j,list(inter), len(list(inter))])\n",
    "\n",
    "    #obtain elements found only in individual datasets\n",
    "    for j in range(len(col_names)):\n",
    "        for i in list_intersect:\n",
    "            if col_names[j] in set(i[0]):\n",
    "                unique_elem[j] = unique_elem[j] - set(i[1]) \n",
    "        unique_elem[j] = list(unique_elem[j])\n",
    "\n",
    "    #create dataframe for elements found only in individual datasets\n",
    "    df_1 = pd.DataFrame(col_names)\n",
    "    df_1[1] = unique_elem\n",
    "    df_1[2] = [len(i) for i in unique_elem]\n",
    "\n",
    "    #combine intersect data and unique elements found within individual sets\n",
    "    df_2 = pd.DataFrame(list_intersect)\n",
    "    df_3 = pd.concat([df_1,df_2])\n",
    "    df_3.columns = [\"Intersection\", \"Match\", \"Counts\"]\n",
    "    df_3 = df_3.reset_index(drop = True)\n",
    "    \n",
    "    #generate data structure for upset plot\n",
    "    upset = df_3.drop(\"Match\", axis=1)\n",
    "    lst_1 = df_3[\"Intersection\"].to_list()\n",
    "    lst_2 = df_3[\"Intersection\"].to_list()\n",
    "    for i in range(len(col_names)):\n",
    "        lst_1[i] = [lst_2[i]]\n",
    "    upset = from_memberships(\n",
    "    lst_1, data=upset[\"Counts\"])\n",
    "    \n",
    "    #make upset plot\n",
    "    if upset_plot == True:\n",
    "        plot(upset)\n",
    "    \n",
    "    return df_3, upset"
   ]
  },
  {
   "cell_type": "markdown",
   "metadata": {},
   "source": [
    "<img src=\"./images/intersection.png\" width=\"500\" height=\"800\">"
   ]
  },
  {
   "cell_type": "markdown",
   "metadata": {},
   "source": [
    "This function will find distinct sets between groups of infinite size. The function will return groups being compared, a list of matches, and the total number of unique elements. This function will be useful in proteomic and transcriptomic analysis to find distinct matches amongst all combinations of groups. In addition, an upset plot will be generated and the corresponding UpSet plot data format used will be outputed."
   ]
  },
  {
   "cell_type": "markdown",
   "metadata": {},
   "source": [
    "# Test 1 (Small Dataset)"
   ]
  },
  {
   "cell_type": "code",
   "execution_count": null,
   "metadata": {},
   "outputs": [],
   "source": [
    "arr = np.array([[\"a\",\"b\",\"c\",\"d\"],\n",
    "         [\"a\",\"e\",\"f\",\"d\"],\n",
    "         [\"a\",\"c\",\"z\",\"l\"]])"
   ]
  },
  {
   "cell_type": "code",
   "execution_count": null,
   "metadata": {},
   "outputs": [],
   "source": [
    "#using integer column names\n",
    "df = pd.DataFrame(arr.T)\n",
    "df.columns = [0,1,2] "
   ]
  },
  {
   "cell_type": "code",
   "execution_count": null,
   "metadata": {},
   "outputs": [],
   "source": [
    "df"
   ]
  },
  {
   "cell_type": "code",
   "execution_count": null,
   "metadata": {},
   "outputs": [],
   "source": [
    "data,upset = intersect(df, upset_plot = True)\n",
    "#plt.savefig(\"upset.svg\")"
   ]
  },
  {
   "cell_type": "code",
   "execution_count": null,
   "metadata": {},
   "outputs": [],
   "source": [
    "data"
   ]
  },
  {
   "cell_type": "code",
   "execution_count": null,
   "metadata": {},
   "outputs": [],
   "source": [
    "upset"
   ]
  },
  {
   "cell_type": "markdown",
   "metadata": {},
   "source": [
    "# Test 2 (Small Dataset)"
   ]
  },
  {
   "cell_type": "code",
   "execution_count": null,
   "metadata": {},
   "outputs": [],
   "source": [
    "arr = np.array([[\"a\",\"b\",\"c\",\"d\"],\n",
    "                [\"a\",\"e\",\"f\",\"d\"],\n",
    "                [\"a\",\"c\",\"z\",\"l\"],\n",
    "                [\"x\",\"c\",\"w\",\"l\"],\n",
    "                [\"a\",\"c\",\"z\",\"y\"]])"
   ]
  },
  {
   "cell_type": "code",
   "execution_count": null,
   "metadata": {},
   "outputs": [],
   "source": [
    "df = pd.DataFrame(arr.T)\n",
    "df.columns = [\"a\",\"b\",\"c\", \"d\", \"e\"] "
   ]
  },
  {
   "cell_type": "code",
   "execution_count": null,
   "metadata": {},
   "outputs": [],
   "source": [
    "df"
   ]
  },
  {
   "cell_type": "code",
   "execution_count": null,
   "metadata": {},
   "outputs": [],
   "source": [
    "data,upset = intersect(df[0:3], upset_plot = True)"
   ]
  },
  {
   "cell_type": "code",
   "execution_count": null,
   "metadata": {},
   "outputs": [],
   "source": [
    "data"
   ]
  },
  {
   "cell_type": "code",
   "execution_count": null,
   "metadata": {},
   "outputs": [],
   "source": [
    "upset"
   ]
  },
  {
   "cell_type": "markdown",
   "metadata": {},
   "source": [
    "# Test 3 (Medium Dataset)"
   ]
  },
  {
   "cell_type": "code",
   "execution_count": null,
   "metadata": {},
   "outputs": [],
   "source": [
    "arr_1 = np.round(np.random.normal(loc = 10, scale = 2, size = 1000), 2)\n",
    "arr_2 = np.round(np.random.normal(loc = 10, scale = 2, size = 1000), 2)\n",
    "arr_3 = np.round(np.random.normal(loc = 10, scale = 2, size = 1000), 2)"
   ]
  },
  {
   "cell_type": "code",
   "execution_count": null,
   "metadata": {},
   "outputs": [],
   "source": [
    "df = pd.DataFrame(arr_1)\n",
    "df[1] = arr_2\n",
    "df[2] = arr_3\n",
    "\n",
    "df.columns = [\"Exp1\", \"Exp2\", \"Exp3\"]"
   ]
  },
  {
   "cell_type": "code",
   "execution_count": null,
   "metadata": {},
   "outputs": [],
   "source": [
    "df"
   ]
  },
  {
   "cell_type": "code",
   "execution_count": null,
   "metadata": {},
   "outputs": [],
   "source": [
    "data,upset = intersect(df, upset_plot = True)"
   ]
  },
  {
   "cell_type": "code",
   "execution_count": null,
   "metadata": {},
   "outputs": [],
   "source": [
    "data"
   ]
  },
  {
   "cell_type": "code",
   "execution_count": null,
   "metadata": {},
   "outputs": [],
   "source": [
    "upset"
   ]
  },
  {
   "cell_type": "markdown",
   "metadata": {},
   "source": [
    "# Test 4 (Medium High Dataset)"
   ]
  },
  {
   "cell_type": "code",
   "execution_count": null,
   "metadata": {},
   "outputs": [],
   "source": [
    "arr_1 = np.round(np.random.normal(loc = 10, scale = 2, size = 10000), 2)\n",
    "arr_2 = np.round(np.random.normal(loc = 10, scale = 2, size = 10000), 2)\n",
    "arr_3 = np.round(np.random.normal(loc = 10, scale = 2, size = 10000), 2)"
   ]
  },
  {
   "cell_type": "code",
   "execution_count": null,
   "metadata": {},
   "outputs": [],
   "source": [
    "df = pd.DataFrame(arr_1)\n",
    "df[1] = arr_2\n",
    "df[2] = arr_3\n",
    "\n",
    "df.columns = [\"Exp1\", \"Exp2\", \"Exp3\"]"
   ]
  },
  {
   "cell_type": "code",
   "execution_count": null,
   "metadata": {},
   "outputs": [],
   "source": [
    "df"
   ]
  },
  {
   "cell_type": "code",
   "execution_count": null,
   "metadata": {},
   "outputs": [],
   "source": [
    "data,upset = intersect(df, upset_plot = True)"
   ]
  },
  {
   "cell_type": "code",
   "execution_count": null,
   "metadata": {},
   "outputs": [],
   "source": [
    "data"
   ]
  },
  {
   "cell_type": "code",
   "execution_count": null,
   "metadata": {},
   "outputs": [],
   "source": [
    "upset"
   ]
  },
  {
   "cell_type": "markdown",
   "metadata": {},
   "source": [
    "# Test 5 (Unequal length dataset)"
   ]
  },
  {
   "cell_type": "code",
   "execution_count": null,
   "metadata": {},
   "outputs": [],
   "source": [
    "arr_1 = np.round(np.random.normal(loc = 10, scale = 2, size = 800), 2)\n",
    "arr_2 = np.round(np.random.normal(loc = 10, scale = 2, size = 1000), 2)\n",
    "arr_3 = np.round(np.random.normal(loc = 10, scale = 2, size = 1200), 2)"
   ]
  },
  {
   "cell_type": "code",
   "execution_count": null,
   "metadata": {},
   "outputs": [],
   "source": [
    "df_1 = pd.DataFrame(arr_1)\n",
    "df_2 = pd.DataFrame(arr_2)\n",
    "df_3 = pd.DataFrame(arr_3)"
   ]
  },
  {
   "cell_type": "code",
   "execution_count": null,
   "metadata": {},
   "outputs": [],
   "source": [
    "unequal = pd.concat([df_1, df_2, df_3],axis=1)\n",
    "unequal.columns = [\"Exp1\", \"Exp2\", \"Exp3\"]"
   ]
  },
  {
   "cell_type": "code",
   "execution_count": null,
   "metadata": {},
   "outputs": [],
   "source": [
    "unequal"
   ]
  },
  {
   "cell_type": "code",
   "execution_count": null,
   "metadata": {},
   "outputs": [],
   "source": [
    "data,upset = intersect(unequal, upset_plot = True)"
   ]
  },
  {
   "cell_type": "code",
   "execution_count": null,
   "metadata": {},
   "outputs": [],
   "source": [
    "data"
   ]
  },
  {
   "cell_type": "code",
   "execution_count": null,
   "metadata": {
    "scrolled": true
   },
   "outputs": [],
   "source": [
    "upset"
   ]
  },
  {
   "cell_type": "markdown",
   "metadata": {},
   "source": [
    "This function passed all tests. It is able to handle large datasets pretty well and return the proper number of matches and counts. A proper pytest will be developed later."
   ]
  },
  {
   "cell_type": "markdown",
   "metadata": {},
   "source": [
    "# Using package"
   ]
  },
  {
   "cell_type": "code",
   "execution_count": null,
   "metadata": {},
   "outputs": [],
   "source": [
    "import gen_analysis as gn"
   ]
  },
  {
   "cell_type": "code",
   "execution_count": null,
   "metadata": {},
   "outputs": [],
   "source": [
    "data, upset = gn.intersect(unequal, upset_plot=True)"
   ]
  },
  {
   "cell_type": "code",
   "execution_count": null,
   "metadata": {},
   "outputs": [],
   "source": [
    "data"
   ]
  },
  {
   "cell_type": "code",
   "execution_count": null,
   "metadata": {},
   "outputs": [],
   "source": [
    "upset"
   ]
  },
  {
   "cell_type": "code",
   "execution_count": null,
   "metadata": {},
   "outputs": [],
   "source": [
    "#numbers add up for exp 1\n",
    "65+73+97+245"
   ]
  },
  {
   "cell_type": "code",
   "execution_count": null,
   "metadata": {},
   "outputs": [],
   "source": [
    "#double check random values to see if it is true\n",
    "i, c = np.where(unequal.values == 4.25)\n",
    "np.unique(unequal.columns[c])"
   ]
  },
  {
   "cell_type": "code",
   "execution_count": null,
   "metadata": {},
   "outputs": [],
   "source": [
    "#double check random values to see if it is true\n",
    "i, c = np.where(unequal.values == 2.71)\n",
    "np.unique(unequal.columns[c])"
   ]
  },
  {
   "cell_type": "code",
   "execution_count": null,
   "metadata": {},
   "outputs": [],
   "source": [
    "#double check random values to see if it is true\n",
    "i, c = np.where(unequal.values == 8.78)\n",
    "np.unique(unequal.columns[c])"
   ]
  },
  {
   "cell_type": "code",
   "execution_count": null,
   "metadata": {},
   "outputs": [],
   "source": [
    "#double check random values to see if it is true\n",
    "i, c = np.where(unequal.values == 10.44)\n",
    "np.unique(unequal.columns[c])"
   ]
  },
  {
   "cell_type": "code",
   "execution_count": null,
   "metadata": {},
   "outputs": [],
   "source": [
    "#double check random values to see if it is true\n",
    "i, c = np.where(unequal.values == 7.5)\n",
    "np.unique(unequal.columns[c])"
   ]
  },
  {
   "cell_type": "markdown",
   "metadata": {},
   "source": [
    "Everything looks good!"
   ]
  }
 ],
 "metadata": {
  "kernelspec": {
   "display_name": "Python 3 (ipykernel)",
   "language": "python",
   "name": "python3"
  },
  "language_info": {
   "codemirror_mode": {
    "name": "ipython",
    "version": 3
   },
   "file_extension": ".py",
   "mimetype": "text/x-python",
   "name": "python",
   "nbconvert_exporter": "python",
   "pygments_lexer": "ipython3",
   "version": "3.10.9"
  }
 },
 "nbformat": 4,
 "nbformat_minor": 4
}
